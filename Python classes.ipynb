{
 "cells": [
  {
   "cell_type": "markdown",
   "id": "05818c26",
   "metadata": {},
   "source": [
    "# Python classes\n",
    "- #### why use a class what's the point?\n",
    "- #### Decorators\n",
    "- #### Classes in python\n",
    "- #### public and private\n",
    "- #### Extending methods, variables, and subclasses\n",
    "- #### Meta-classes in python\n",
    "- #### Design patterns for classes: singleton, Factory, Facade\n",
    "## why use a class what's the point?\n",
    "\n",
    "Classes are not necessary in programming languages at all. Technically you can say that about functions too but there's a reason why certain design preferences help code production e.g. functions (at least) help reduce repeat code (DRY principle) amongst other useful attributes such as better readability, debugging (separation of concerns), which usually allows efficient and/or less confusing implementations. Classes basically aim at the same things but for data types,data structures, or other independent processes. For example, it's meaningful to give capability to a programmer to add two strings together and that be one string appended by another (that makes sense) and would be criticised by some as being inefficient or lacking the conceptual potential to otherwise use ```string_add(string1,string2)``` as opposed to ```string1 + string2``` where in the latter case the addition operator has been overrided for string objects. It also makes sense to use classes when you have functions that pertain to a certain conceptual process where the i.e. first variable is repeatedly passed into each successive function of many functions (what instance based methods are good for). If you like functional programming probably the first time you'll need to understand classes in python is to add methods to an existing classes methods, creating a name space for independent processes with one example such as ASP.NET with entity framework, or, if really necessary, defining your own custom data type or data structure i.e. to create a python version of linked lists, trees, stacks (though I'd suspect python already has a library for these), more advanced tree types, your own custom data structures etc. So it's a design preference, but in some cases it just makes sense over other approaches.\n",
    "\n",
    "As we'll see later meta-classes help define a classes definitions that may lead to better programming practices and restrict or add functionalities to your code.\n",
    "\n",
    "\n",
    "## Decorators\n",
    "\n",
    "Something useful to know before starting:\n",
    "\n",
    "Whenever you see an '@' symbol followed by a function name it's referring to an order 1 decorator (saying order 1 or 2, 3 etc. I'm not sure is a technical term but basically I'm referring to how many layers of functions encapsulate a single function). Basically a decorator manipulates or preps a function or it's inputs before it gets called. It's a kind of prepping function for your function so that it's not needing to repeat code.\n",
    "\n",
    "All decorators have something like this in mind:\n",
    "\n",
    "```\n",
    "def custom_decorator(func):\n",
    "    def wrapper(*args, **kwargs):\n",
    "        return func(*args, **kwargs)\n",
    "    return wrapper\n",
    "@custom_decorator\n",
    "def your_function():\n",
    "    return something\n",
    "```\n",
    "\n",
    "so essentially the decorator 'decorates' or modifies the existing function.\n",
    "\n",
    "Why not just use ```wrapper(your_function,*args)```?\n",
    "\n",
    "At the least, essentially it's, again, a design preference for better production code like classes or functions are but mainly we are using it in classes as we'll soon see that they become more prevalent to make use of and it's easier, more readable, and maintainable to use a decorator when writing classes.\n",
    "\n",
    "so for example without decorators:"
   ]
  },
  {
   "cell_type": "code",
   "execution_count": 20,
   "id": "85427bf6",
   "metadata": {},
   "outputs": [
    {
     "name": "stdout",
     "output_type": "stream",
     "text": [
      "decorator1\n",
      "The multiplied verion of your inputs is:\n",
      "2\n",
      "The actual version of from your add function is:\n",
      "3\n",
      "decorator2\n",
      "now changing operation from addition to multiplication:\n"
     ]
    },
    {
     "data": {
      "text/plain": [
       "2"
      ]
     },
     "execution_count": 20,
     "metadata": {},
     "output_type": "execute_result"
    }
   ],
   "source": [
    "def multiplied_version(func,*args):\n",
    "    print(\"decorator1\")\n",
    "    print(\"The multiplied verion of your inputs is:\")\n",
    "    print(args[0]*args[1])\n",
    "    print(\"The actual version of from your add function is:\")\n",
    "    return func(*args)\n",
    "\n",
    "def multiply(func,*args):\n",
    "    print(\"decorator2\")\n",
    "    print(\"now changing operation from addition to multiplication:\")\n",
    "    return args[0]*args[1]\n",
    "def add(x,y):\n",
    "    return x+y\n",
    "/print multiplied_version(add,*(1,2))\n",
    "multiply(add,*(1,2))"
   ]
  },
  {
   "cell_type": "markdown",
   "id": "9729b427",
   "metadata": {},
   "source": [
    "With decorators:"
   ]
  },
  {
   "cell_type": "code",
   "execution_count": 27,
   "id": "967eee37",
   "metadata": {},
   "outputs": [
    {
     "name": "stdout",
     "output_type": "stream",
     "text": [
      "decorator1\n",
      "The multiplied verion of your inputs is:\n",
      "2\n",
      "The actual version of from your add function is:\n",
      "3\n",
      "decorator2\n",
      "now changing operation from addition to multiplication:\n"
     ]
    },
    {
     "data": {
      "text/plain": [
       "2"
      ]
     },
     "execution_count": 27,
     "metadata": {},
     "output_type": "execute_result"
    }
   ],
   "source": [
    "def multiplied_version(func):\n",
    "    def wrapper(*args):\n",
    "        print(\"decorator1\")\n",
    "        print(\"The multiplied verion of your inputs is:\")\n",
    "        print(args[0]*args[1])\n",
    "        print(\"The actual version of from your add function is:\")\n",
    "        return func(*args)\n",
    "    return wrapper\n",
    "@multiplied_version\n",
    "def add(x,y):\n",
    "    return x+y\n",
    "/print add(1,2)\n",
    "def multiply(func):\n",
    "    def wrapper(*args):\n",
    "        print(\"decorator2\")\n",
    "        print(\"now changing operation from addition to multiplication:\")\n",
    "        return args[0]*args[1]\n",
    "    return wrapper\n",
    "@multiply # has to be used on definitions (there might be more systematically clever ways overwrite but it's not useful here)\n",
    "def add(x,y):\n",
    "    return x+y\n",
    "add(1,2)"
   ]
  },
  {
   "cell_type": "markdown",
   "id": "cbb76599",
   "metadata": {},
   "source": [
    "Multiple decorators can also be applied if needed"
   ]
  },
  {
   "cell_type": "code",
   "execution_count": 116,
   "id": "15df7b83",
   "metadata": {},
   "outputs": [
    {
     "name": "stdout",
     "output_type": "stream",
     "text": [
      "decorator1\n",
      "The multiplied verion of your inputs is:\n",
      "2\n",
      "The actual version of from your add function is:\n",
      "decorator2\n",
      "now changing operation from addition to multiplication:\n"
     ]
    },
    {
     "data": {
      "text/plain": [
       "2"
      ]
     },
     "execution_count": 116,
     "metadata": {},
     "output_type": "execute_result"
    }
   ],
   "source": [
    "@multiplied_version\n",
    "@multiply\n",
    "def add(x,y):\n",
    "    return x+y\n",
    "add(1,2)"
   ]
  },
  {
   "cell_type": "markdown",
   "id": "51bd604a",
   "metadata": {},
   "source": [
    "You can also pass in variables to a decorator if it makes sense to do so:"
   ]
  },
  {
   "cell_type": "code",
   "execution_count": 113,
   "id": "eb9d4ce2",
   "metadata": {},
   "outputs": [
    {
     "name": "stdout",
     "output_type": "stream",
     "text": [
      "5 6\n",
      "multiply:  1 * 2 = 2\n",
      "final: ( 2 )+ 6 + 5\n"
     ]
    },
    {
     "data": {
      "text/plain": [
       "13"
      ]
     },
     "execution_count": 113,
     "metadata": {},
     "output_type": "execute_result"
    }
   ],
   "source": [
    "def multiply_(val1,val2):\n",
    "    print(val1,val2)\n",
    "    def wrapper1(func):\n",
    "        def wrapper2(*args):\n",
    "            print(\"multiply: \",args[0],\"*\",args[1],\"=\",args[0]*args[1])\n",
    "            print(\"final: (\",args[0]*args[1],\")+\",val2,\"+\",val1)\n",
    "            return args[0]*args[1]+val2+val1\n",
    "        return wrapper2\n",
    "    return wrapper1\n",
    "@multiply_(5,6)\n",
    "def add(x,y):\n",
    "    return x+y\n",
    "add(1,2)"
   ]
  },
  {
   "cell_type": "markdown",
   "id": "ce923aad",
   "metadata": {},
   "source": [
    "So by using decorators we can manipulate the function before it gets it's chance to proceed on with it's original procedure. Common use cases include logging, timing, exception handling, all to manipulate or prepare for something before the decorated functions call begins at which it either continues as normal, has slight modifications to inputs or procedure, or may be an entirely new function depending on what and how your decorators wrapper function/s work.\n",
    "\n",
    "# Common decorators\n",
    "\n",
    "Some decorators used commonly in classes are ```@staticmethod``` and ```@property``` that respectively prep a function for not needing to use the self dictionary arguement (self is used in instance-based methods in classes but in some cases we'd want to apply a functions as you normally would as a static method) and if a class or function should be treated as a property attribute instead (Usually as a subclass extension for other methods is where this is useful or defining custom setter, getter, and deleter methods). \n",
    "\n",
    "There are also many others such as ```@classmethod```: use the class as the first arguement rather than the instance of the class if wanting to access class specific attributes such as \\_\\_name\\_\\_, \\_\\_class\\_\\_, \\_\\_doc\\_\\_ etc. ```@dataclass```: used to prevent boiler plate for data classes by allowing ease of implementation through decorators. ```@abstractmethod```: (when your class inherits from ABC from the abc builtin library) can set the defined inherited template for your child / sub classes e.g. for every function with this decorator in the class that inherited the ABC class will enforce all it's sub class have the same functions defined.\n",
    "\n",
    "\n",
    "# Classes in python\n",
    "In python we can make use of classes to be inclusive of the OOP (object-oriented programming) paradigm. In the example below there's no need necessarily to setup classes in any particular way, the important thing is that what you intended to use the code for was reasonable and the better way of proceeding.\n",
    "\n",
    "I.e. if you need an instance of a class and to overload an operator to make the concept better to program, the use of public and private methods or data, or the use of name spaces for functions (in python everything is an object so technically it's an attribute name space and not really the same thing as a name space but it's conceptually analogous).\n",
    "\n",
    "# Public and Private\n",
    "All data and methods that start with a double underscore (but don't end in a double underscore) are private, otherwise these are public."
   ]
  },
  {
   "cell_type": "code",
   "execution_count": 67,
   "id": "1b84ed0c",
   "metadata": {},
   "outputs": [],
   "source": [
    "class data:\n",
    "    ## public:\n",
    "    example = \"abc\"\n",
    "    def method(self,*args):\n",
    "        print(\"public message\")\n",
    "    ## private:\n",
    "    __example = \"123\"\n",
    "    def __method(self,*args):\n",
    "        print(\"private message\")"
   ]
  },
  {
   "cell_type": "code",
   "execution_count": 72,
   "id": "097ce2b2",
   "metadata": {},
   "outputs": [
    {
     "name": "stdout",
     "output_type": "stream",
     "text": [
      "abc\n",
      "public message\n",
      "error: 'data' object has no attribute '__example' you tried to access a private value\n",
      "error: 'data' object has no attribute '__method' you tried to access a private method\n"
     ]
    }
   ],
   "source": [
    "my_obj=data() # create instance of an object\n",
    "## public\n",
    "/print my_obj.example\n",
    "my_obj.method()\n",
    "## private\n",
    "try:my_obj.__example\n",
    "except Exception as e:print(\"error:\",e,\"you tried to access a private value\")\n",
    "try:my_obj.__method()\n",
    "except Exception as e:print(\"error:\",e,\"you tried to access a private method\")"
   ]
  },
  {
   "cell_type": "markdown",
   "id": "2269b408",
   "metadata": {},
   "source": [
    "# Special methods\n",
    "Some methods are built in defined as \\_\\_\\*method\\*\\_\\_ (double underscores). These are 'dunder' or 'magic' methods and are usually pythons base methods that you can override to customize your objects interactions with other objects of it's type or how to interact with other types (define in your methods). There's nothing stopping you from naming variables or methods this way for classes if understand what you're achieving."
   ]
  },
  {
   "cell_type": "code",
   "execution_count": 38,
   "id": "21900d2d",
   "metadata": {},
   "outputs": [],
   "source": [
    "class special_methods:\n",
    "    # for initializing the object with variables, other methods or instantizing other objects etc.\n",
    "    def __init__(self,num=1):\n",
    "        self.num = num\n",
    "    ## special instance-based methods: these all have a __*method*__ format to them\n",
    "    def __getitem__(self,index):\n",
    "        print(\"[index] was used\")\n",
    "        return self.num[index]\n",
    "    def __str__(self):\n",
    "        print(\"str() was used\")\n",
    "        return str(self.num+[10]) # needs to return a string\n",
    "    def __eq__(self,value_compared_to):\n",
    "        print(f\"compared to {value_compared_to}\")\n",
    "    def __add__(self,a):\n",
    "        return self.num-a\n",
    "    def __mul__(self,value):\n",
    "        return float(self.num)/2\n",
    "    # and many more..."
   ]
  },
  {
   "cell_type": "code",
   "execution_count": 41,
   "id": "3b02de82",
   "metadata": {
    "scrolled": true
   },
   "outputs": [
    {
     "name": "stdout",
     "output_type": "stream",
     "text": [
      "20\n",
      "[index] was used\n",
      "1 1\n",
      "str() was used\n",
      "[1, 2, 3, 10]\n",
      "compared to 3\n",
      "0\n"
     ]
    },
    {
     "data": {
      "text/plain": [
       "1.5"
      ]
     },
     "execution_count": 41,
     "metadata": {},
     "output_type": "execute_result"
    }
   ],
   "source": [
    "# __init__\n",
    "my_obj=special_methods(20)\n",
    "/print obj.num\n",
    "my_obj.num=[1,2,3]\n",
    "# __getitem__\n",
    "/print my_obj[0],my_obj.__getitem__(0),my_obj.num[0]\n",
    "# __str__\n",
    "print(str(my_obj))\n",
    "#__eq__\n",
    "my_obj == 3\n",
    "#__add__\n",
    "my_obj.num=3\n",
    "/print my_obj+3\n",
    "#__mul__\n",
    "my_obj*3"
   ]
  },
  {
   "cell_type": "markdown",
   "id": "e520a162",
   "metadata": {},
   "source": [
    "How to restrict the key space for classes:"
   ]
  },
  {
   "cell_type": "code",
   "execution_count": null,
   "id": "6a2d1dae",
   "metadata": {},
   "outputs": [],
   "source": [
    "class restrict:\n",
    "    __slots__ = [\"A\",\"B\"]\n",
    "restrict().A=1,(lambda x:x**2)#(x)\n",
    "restrict().B=2,(lambda x: lambda y: x+y)#(x)(y) # is how you'd call it\n",
    "restrict().C=3"
   ]
  },
  {
   "cell_type": "markdown",
   "id": "d0ffa8ca",
   "metadata": {},
   "source": [
    "# Inheritance and creating methods\n",
    "We can inherit class attributes (data and methods) with class inheritance and create our own attributes."
   ]
  },
  {
   "cell_type": "code",
   "execution_count": 42,
   "id": "44877f4c",
   "metadata": {},
   "outputs": [],
   "source": [
    "class methods(special_methods):\n",
    "    # self.num is from the __init__ method is inherited from special_methods\n",
    "    ## defining methods:\n",
    "    def instance_add(self,x,y): # instance based methods # uses 'self' as the first arg\n",
    "        return self.num+x+y        \n",
    "    @staticmethod # non-instance based methods # 'self' not accessible; basically a function from a namespace (e.g. your class)\n",
    "    def static_add(x,y):\n",
    "        return x+y\n",
    "    @classmethod # instance based method? # but you take the 'cls' (class) as the first arg rather than the 'self' instance\n",
    "    def class_method(cls,num): \n",
    "        return cls(num) # usually used to create an instance of a class dynamically, else it's hardcoded e.g. methods(num)"
   ]
  },
  {
   "cell_type": "code",
   "execution_count": 55,
   "id": "c7a75641",
   "metadata": {},
   "outputs": [
    {
     "name": "stdout",
     "output_type": "stream",
     "text": [
      "Instance data: 20\n",
      "\n",
      "Instance add: 23\n",
      "Static add: 3\n",
      "classmethod: 20\n",
      "\n",
      "Inherited methods:\n",
      "\n",
      "compared to 1\n",
      "10.0 16 20\n"
     ]
    }
   ],
   "source": [
    "# our methods\n",
    "my_obj=methods(20) # create an instance\n",
    "# see if num was created upon instance and is publically available\n",
    "print(f\"Instance data: {my_obj.num}\\n\\nInstance add: {my_obj.instance_add(1,2)}\\nStatic add: {my_obj.static_add(1,2)}\")\n",
    "print(f\"classmethod: {methods().class_method(20).num}\\n\\nInherited methods:\\n\")\n",
    "# trying some of the inherited methods \n",
    "#(if a class is inherited all of it's attributes are available unless overriden or deleted)\n",
    "my_obj==1\n",
    "/print my_obj*3,my_obj+4,my_obj.num"
   ]
  },
  {
   "cell_type": "markdown",
   "id": "ae1e26bb",
   "metadata": {},
   "source": [
    "Note: If you inherit a method and then redefine it in your class (unless other custom behaviour prevents you from doing so) you overwrite the classes method.\n",
    "\n",
    "# Class properties\n",
    "Properties remove the need for an attribute (usually class or function) to be callable (so don't call them)."
   ]
  },
  {
   "cell_type": "code",
   "execution_count": 61,
   "id": "4092ad7f",
   "metadata": {},
   "outputs": [],
   "source": [
    "class properties(methods):\n",
    "    # this is the @prop.getter\n",
    "    @property # you'd use it for custom getting, setting, and deleting e.g. as a property specific to a class\n",
    "    def prop(self):\n",
    "        return self.val*3\n",
    "    # custom setter\n",
    "    @prop.setter\n",
    "    def prop(self,value):\n",
    "        self.val=value-1\n",
    "    @prop.deleter\n",
    "    def prop(self):\n",
    "        print(self.val)"
   ]
  },
  {
   "cell_type": "code",
   "execution_count": 68,
   "id": "5de19970",
   "metadata": {},
   "outputs": [
    {
     "name": "stdout",
     "output_type": "stream",
     "text": [
      "3\n",
      "'properties' object has no attribute 'value'\n",
      "2\n",
      "6\n",
      "Inherited methods: -2 0.5 2\n"
     ]
    }
   ],
   "source": [
    "# regular class property attribute\n",
    "my_obj=properties()\n",
    "my_obj.value=3\n",
    "/print my_obj.value\n",
    "del my_obj.value\n",
    "try:print(my_obj.value)\n",
    "except Exception as e:print(e)\n",
    "# our custom class property attribute\n",
    "my_obj.prop=3\n",
    "my_obj.prop\n",
    "del my_obj.prop\n",
    "print(my_obj.prop)\n",
    "# Inherited methods:\n",
    "print(\"Inherited methods:\",my_obj+3,my_obj*3,my_obj.static_add(1,1))"
   ]
  },
  {
   "cell_type": "markdown",
   "id": "f9311a4a",
   "metadata": {},
   "source": [
    "# Type annotations\n",
    "\n",
    "Type annotating serves no other purpose (normally) than for readability and maintainability e.g. to let yourself and others know what a functions expected inputs and outputs are. You can make use of them using ```.__annotations__``` if desired."
   ]
  },
  {
   "cell_type": "code",
   "execution_count": 82,
   "id": "999c2f45",
   "metadata": {},
   "outputs": [
    {
     "name": "stdout",
     "output_type": "stream",
     "text": [
      "2.0 2.0\n"
     ]
    },
    {
     "data": {
      "text/plain": [
       "{'a': int | float, 'b': int | float, 'return': int | float}"
      ]
     },
     "execution_count": 82,
     "metadata": {},
     "output_type": "execute_result"
    }
   ],
   "source": [
    "def do(a,b):\n",
    "    return a+b\n",
    "## type annotation version ##\n",
    "# (expected input types) -> (expected return types)\n",
    "def do2(a:int|float,b:int|float)->int|float:\n",
    "    return a+b\n",
    "/print do(1.0,1),do2(1.0,1)\n",
    "\n",
    "# if wanting to specify for multiple returns:\n",
    "#->(int,float,str) # for 3 returns\n",
    "\n",
    "do2.__annotations__"
   ]
  },
  {
   "cell_type": "markdown",
   "id": "722d2a84",
   "metadata": {},
   "source": [
    "They don't serve to restrict outputs, only to help understanding (I guess) e.g. they don't affect the functions execution at all as is\n",
    "\n",
    "# Data class\n",
    "\n",
    "We can create data classes as well (a class of data essentially) where if you're needing common boilerplate code ```@dataclass``` may be useful:"
   ]
  },
  {
   "cell_type": "code",
   "execution_count": 3,
   "id": "cff2ba52",
   "metadata": {},
   "outputs": [],
   "source": [
    "from dataclasses import dataclass\n",
    "@dataclass\n",
    "class expected_data:\n",
    "    item_number: int\n",
    "    ID: int\n",
    "    date_created: float\n",
    "    description: str\n",
    "\n",
    "class expected_data2:\n",
    "    item_number: int\n",
    "    ID: int\n",
    "    time_taken: float\n",
    "    description: str\n",
    "# you'd need an __init__ method implemented for it to work at the least; and you wouldn't need the variables definied above this\n",
    "#    def __init__(self,item_number: int,ID: int,time_taken: float,description: str)->None:\n",
    "#        self.item_number=item_number\n",
    "#        self.ID=ID\n",
    "#        self.time_taken=time_taken\n",
    "#        self.description=description"
   ]
  },
  {
   "cell_type": "code",
   "execution_count": 4,
   "id": "956f834c",
   "metadata": {},
   "outputs": [
    {
     "name": "stdout",
     "output_type": "stream",
     "text": [
      "expected_data(item_number=1, ID=1, date_created=3, description=3) \n",
      "\n",
      "no initialisation method or __init__ method implemented in the class\n"
     ]
    }
   ],
   "source": [
    "/print expected_data(1,1,3,3),\"\\n\"\n",
    "try:print(expected_data2(1,1,3,3))\n",
    "except:print(\"no initialisation method or __init__ method implemented in the class\")"
   ]
  },
  {
   "cell_type": "markdown",
   "id": "7f1b23e8",
   "metadata": {},
   "source": [
    "All the data class decorator does for you is setup the boilerplate code when you need it i.e. it inherits the \\_\\_init\\_\\_ method along with other special methods that are supposed to be common to data classes. In practice it's useful to have and can easily be overrided customized via passing in arguements to the decorator function; though you can still define your own custom methods if you want."
   ]
  },
  {
   "cell_type": "markdown",
   "id": "912882be",
   "metadata": {},
   "source": [
    "# how to add new methods to an existing class\n",
    "Sometimes developers don't add in features you want to their classes (probably for good reasons) but nonetheless we can add them in if we understand what we're achieving by doing so (and if the class attributes are mutable).\n",
    "\n",
    "To extend a classes methods in python we can simply use 'monkey patching' e.g. directly assign the attribute (because objects in some way are also dictionaries (hash maps)) we can directly assign a python object with our function \n",
    "\n",
    "(an uncalled function though, because we want the capability to call it e.g. pd.DataFrame.str = str_df (as opposed to) str_df(), unless it makes sense to call it)\n"
   ]
  },
  {
   "cell_type": "code",
   "execution_count": 190,
   "id": "9290c4bd",
   "metadata": {},
   "outputs": [
    {
     "name": "stdout",
     "output_type": "stream",
     "text": [
      "hi\n",
      "hi\n"
     ]
    },
    {
     "data": {
      "text/plain": [
       "<function __main__.hello_method()>"
      ]
     },
     "execution_count": 190,
     "metadata": {},
     "output_type": "execute_result"
    }
   ],
   "source": [
    "import pandas as pd\n",
    "\n",
    "def hello_method():\n",
    "    print(\"hi\")\n",
    "pd.DataFrame.hello = hello_method()\n",
    "pd.DataFrame.hello # since we already called it we can call it as property I guess\n",
    "# or \n",
    "pd.DataFrame.hello = hello_method\n",
    "pd.DataFrame.hello() # call at as you would\n",
    "pd.DataFrame.hello # object info"
   ]
  },
  {
   "cell_type": "markdown",
   "id": "1d7d60ef",
   "metadata": {},
   "source": [
    "we can also create or modify class variables this way as well"
   ]
  },
  {
   "cell_type": "code",
   "execution_count": 253,
   "id": "cc7c6eff",
   "metadata": {},
   "outputs": [
    {
     "name": "stdout",
     "output_type": "stream",
     "text": [
      "False\n",
      "3\n"
     ]
    }
   ],
   "source": [
    "# new_var doesn't exist in pd.DataFrame\n",
    "/print hasattr(pd.DataFrame,\"new_var\") # checks the 'self' dictionary of a class to see if the attribute (key) exists basically\n",
    "# create new variable\n",
    "pd.DataFrame.new_var = 3\n",
    "/print pd.DataFrame.new_var\n",
    "# incase wanting to clear it from memory\n",
    "del pd.DataFrame.new_var"
   ]
  },
  {
   "cell_type": "markdown",
   "id": "023b4fab",
   "metadata": {},
   "source": [
    "You can attempt to add private variables as well but they are not private and don't affect the pre-existing private variables:"
   ]
  },
  {
   "cell_type": "code",
   "execution_count": 45,
   "id": "b3547bc9",
   "metadata": {},
   "outputs": [
    {
     "name": "stdout",
     "output_type": "stream",
     "text": [
      "private message\n",
      "my message\n",
      "cannot access private variable\n",
      "private variable supposedly changed\n",
      "private variable supposedly accessed\n",
      "private message\n"
     ]
    }
   ],
   "source": [
    "class A:\n",
    "    __private=\"private message\"\n",
    "    def message(self):\n",
    "        print(self.__private)\n",
    "obj=A()\n"
    "obj.message()\n",
    "obj.__new_private = \"my message\"\n",
    "/print obj.__new_private\n",
    "try:obj.__private\n",
    "except:print(\"cannot access private variable\")\n",
    "obj.__private = \"here\"\n",
    "print(\"private variable supposedly changed\")\n",
    "obj.__private\n",
    "print(\"private variable supposedly accessed\")\n",
    "obj.message()"
   ]
  },
  {
   "cell_type": "markdown",
   "id": "55b6e483",
   "metadata": {},
   "source": [
    "# how to add new subclasses to an existing class\n",
    "\n",
    "We can create subclasses or classes in classes simply by defining a class nested inside an existing class definition.\n",
    "\n",
    "Here we've defined the subclass B that's nested inside class A:\n",
    "```\n",
    "class A:\n",
    "    class B:\n",
    "        pass\n",
    "def printer():\n",
    "    print(\"hi\")\n",
    "A.printer=printer\n",
    "A.printer()\n",
    "# and\n",
    "A.B.printer=printer\n",
    "A.B.printer()\n",
    "```\n",
    "Note: no ```@staticmethod``` for ```def printer():``` if this was used inside a class then you must add: ```@staticmethod``` since no 'self' used, but here no args are passed in anyway so adding ```@staticmethod``` has no use (if you did use it you'd get the same  result as not using it; when outside of a class)\n",
    "\n",
    "\n",
    "The above code allows us to utilize A() or A.printer() or A.B() or A.B.printer() where desired.\n",
    "\n",
    "We can add on subclasses by using monkey patching again e.g.:\n",
    "\n",
    "```\n",
    "class C:\n",
    "    pass\n",
    "C.printer=printer\n",
    "C.printer()\n",
    "A.C = C\n",
    "A.C.printer()\n",
    "# or i.e.\n",
    "A.B.C = C\n",
    "A.B.C.printer()\n",
    "```\n",
    "or make our own class a subclass of another class:\n",
    "\n",
    "```\n",
    "C.A=A\n",
    "C.printer()\n",
    "C.A.printer()\n",
    "C.A.B.printer()\n",
    "```\n",
    "\n",
    "Note: When using i.e. C.A.B.printer(), because there's no explicit inheritance therefore all three classes are independent of each other with their own defined methods rather than inheriting the methods. We always have to define inheritance at class definition or set it as attribute. For example, for B to inherit from A in C.A.B we need to use the following for dynamically defining inheritance:"
   ]
  },
  {
   "cell_type": "code",
   "execution_count": 60,
   "id": "0514b18b",
   "metadata": {},
   "outputs": [],
   "source": [
    "def inherit(class_name:object,*args:object)->object:\n",
    "    \"\"\"Adds inheritence to a choosen classname. This works for nested classes as well\"\"\"\n",
    "    # get the names\n",
    "    def get_name(x):\n",
    "        \"\"\"gets the literal name of the variable that's passed in\"\"\"\n",
    "        return x.split(\"__main__.\")[1][:-2]\n",
    "    name = get_name(str(class_name))\n",
    "    cls=name+\",\"\n",
    "    for arg in args:\n",
    "        cls+=get_name(str(arg))+\",\"\n",
    "    # define / redefine class with inheritance\n",
    "    exec(compile(f\"class temp(*(\"+cls[:-1]+\")):pass\",\"\",\"exec\"))\n",
    "    return locals()[\"temp\"]"
   ]
  },
  {
   "cell_type": "code",
   "execution_count": 67,
   "id": "bbfcf2e1",
   "metadata": {
    "scrolled": false
   },
   "outputs": [
    {
     "name": "stdout",
     "output_type": "stream",
     "text": [
      "'B' object has no attribute 'a'\n",
      "3\n",
      "3\n",
      "'B' object has no attribute 'a'\n",
      "3\n",
      "3\n"
     ]
    }
   ],
   "source": [
    "## neseted ##\n",
    "class C:\n",
    "    b=2\n",
    "    class A:\n",
    "        a=3\n",
    "        class B:\n",
    "            pass\n",
    "try:C.A.B().a\n",
    "except Exception as e:print(e)\n",
    "/print inherit(C.A.B,C.A,C)().a\n",
    "# can be done more than once and still works\n",
    "/print inherit(C.A.B,C.A,C)().a \n",
    "## non nested ##\n",
    "class C:b=2\n",
    "class A:a=3\n",
    "class B:pass\n",
    "try:B().a\n",
    "except Exception as e:print(e)\n",
    "/print inherit(B,A)().a\n",
    "/print inherit(B,A)().a"
   ]
  },
  {
   "cell_type": "markdown",
   "id": "ffe70418",
   "metadata": {},
   "source": [
    "# where it's useful\n",
    "\n",
    "For example say we wanted a string accessor for pd.DataFrame objects like pd.Series objects have. \n",
    "\n",
    "What we can do is define a new class as a property with methods and inherit from the object the class wants to use as the 'self' (in this case pd.DataFrame)."
   ]
  },
  {
   "cell_type": "code",
   "execution_count": 123,
   "id": "871b07f6",
   "metadata": {},
   "outputs": [
    {
     "data": {
      "text/html": [
       "<div>\n",
       "<style scoped>\n",
       "    .dataframe tbody tr th:only-of-type {\n",
       "        vertical-align: middle;\n",
       "    }\n",
       "\n",
       "    .dataframe tbody tr th {\n",
       "        vertical-align: top;\n",
       "    }\n",
       "\n",
       "    .dataframe thead th {\n",
       "        text-align: right;\n",
       "    }\n",
       "</style>\n",
       "<table border=\"1\" class=\"dataframe\">\n",
       "  <thead>\n",
       "    <tr style=\"text-align: right;\">\n",
       "      <th></th>\n",
       "      <th>0</th>\n",
       "    </tr>\n",
       "  </thead>\n",
       "  <tbody>\n",
       "    <tr>\n",
       "      <th>0</th>\n",
       "      <td>hi there</td>\n",
       "    </tr>\n",
       "    <tr>\n",
       "      <th>1</th>\n",
       "      <td>hi yes</td>\n",
       "    </tr>\n",
       "  </tbody>\n",
       "</table>\n",
       "</div>"
      ],
      "text/plain": [
       "          0\n",
       "0  hi there\n",
       "1    hi yes"
      ]
     },
     "metadata": {},
     "output_type": "display_data"
    },
    {
     "data": {
      "text/html": [
       "<div>\n",
       "<style scoped>\n",
       "    .dataframe tbody tr th:only-of-type {\n",
       "        vertical-align: middle;\n",
       "    }\n",
       "\n",
       "    .dataframe tbody tr th {\n",
       "        vertical-align: top;\n",
       "    }\n",
       "\n",
       "    .dataframe thead th {\n",
       "        text-align: right;\n",
       "    }\n",
       "</style>\n",
       "<table border=\"1\" class=\"dataframe\">\n",
       "  <thead>\n",
       "    <tr style=\"text-align: right;\">\n",
       "      <th></th>\n",
       "      <th>0</th>\n",
       "    </tr>\n",
       "  </thead>\n",
       "  <tbody>\n",
       "    <tr>\n",
       "      <th>0</th>\n",
       "      <td>hi the</td>\n",
       "    </tr>\n",
       "    <tr>\n",
       "      <th>1</th>\n",
       "      <td>hi yes</td>\n",
       "    </tr>\n",
       "  </tbody>\n",
       "</table>\n",
       "</div>"
      ],
      "text/plain": [
       "        0\n",
       "0  hi the\n",
       "1  hi yes"
      ]
     },
     "metadata": {},
     "output_type": "display_data"
    },
    {
     "data": {
      "text/html": [
       "<div>\n",
       "<style scoped>\n",
       "    .dataframe tbody tr th:only-of-type {\n",
       "        vertical-align: middle;\n",
       "    }\n",
       "\n",
       "    .dataframe tbody tr th {\n",
       "        vertical-align: top;\n",
       "    }\n",
       "\n",
       "    .dataframe thead th {\n",
       "        text-align: right;\n",
       "    }\n",
       "</style>\n",
       "<table border=\"1\" class=\"dataframe\">\n",
       "  <thead>\n",
       "    <tr style=\"text-align: right;\">\n",
       "      <th></th>\n",
       "      <th>0</th>\n",
       "    </tr>\n",
       "  </thead>\n",
       "  <tbody>\n",
       "    <tr>\n",
       "      <th>0</th>\n",
       "      <td>[h,  there]</td>\n",
       "    </tr>\n",
       "    <tr>\n",
       "      <th>1</th>\n",
       "      <td>[h,  yes]</td>\n",
       "    </tr>\n",
       "  </tbody>\n",
       "</table>\n",
       "</div>"
      ],
      "text/plain": [
       "             0\n",
       "0  [h,  there]\n",
       "1    [h,  yes]"
      ]
     },
     "metadata": {},
     "output_type": "display_data"
    },
    {
     "data": {
      "text/html": [
       "<div>\n",
       "<style scoped>\n",
       "    .dataframe tbody tr th:only-of-type {\n",
       "        vertical-align: middle;\n",
       "    }\n",
       "\n",
       "    .dataframe tbody tr th {\n",
       "        vertical-align: top;\n",
       "    }\n",
       "\n",
       "    .dataframe thead th {\n",
       "        text-align: right;\n",
       "    }\n",
       "</style>\n",
       "<table border=\"1\" class=\"dataframe\">\n",
       "  <thead>\n",
       "    <tr style=\"text-align: right;\">\n",
       "      <th></th>\n",
       "      <th>0</th>\n",
       "    </tr>\n",
       "  </thead>\n",
       "  <tbody>\n",
       "    <tr>\n",
       "      <th>0</th>\n",
       "      <td>there</td>\n",
       "    </tr>\n",
       "    <tr>\n",
       "      <th>1</th>\n",
       "      <td>yes</td>\n",
       "    </tr>\n",
       "  </tbody>\n",
       "</table>\n",
       "</div>"
      ],
      "text/plain": [
       "       0\n",
       "0  there\n",
       "1    yes"
      ]
     },
     "metadata": {},
     "output_type": "display_data"
    },
    {
     "data": {
      "text/plain": [
       "0    hi there\n",
       "Name: 0, dtype: object"
      ]
     },
     "metadata": {},
     "output_type": "display_data"
    }
   ],
   "source": [
    "# define new accessor class as property (means we get .str_df rather than .str_df())\n",
    "@property\n",
    "class str_df(pd.DataFrame):\n",
    "    # we don't have to initialize 'str_df' since it inherits this from pd.DataFrame e.g. it uses pd.DataFrames' __init__ method\n",
    "    # this is also true of all other methods as this is what class inheritence does, therefore if we write out any methods\n",
    "    # used in the inherited class in this class it's therefore overrwritten with the new method for .str_df but the \n",
    "    # inherited class still retains all of its methods and are not overrwritten.\n",
    "    def __getitem__(self,index):\n",
    "        return self.map(lambda x:x[index])\n",
    "    def split(self,sep=None):\n",
    "        return self.map(lambda x:x.split(sep))\n",
    "# add new class to existing class as a subset class (subclass) called 'str'\n",
    "pd.DataFrame.str=str_df\n",
    "df=pd.DataFrame([\"hi there\",\"hi yes\"])\n",
    "/display df.str,df.str[0:6],df.str.split(\"i\"),df.str.split().str[1],df.str.iloc[0]"
   ]
  },
  {
   "cell_type": "markdown",
   "id": "8d15479e",
   "metadata": {},
   "source": [
    "Our new accessor successfully inherited the pandas dataframe attributes and it's own attributes. \n",
    "\n",
    "One clear disadvantage to this approach is that we inherited all methods from pd.DataFrame; what if we only wanted to use our own custom methods?\n",
    "\n",
    "If so, we need to save our data frame upon initialization and use this instead of direct inheritance."
   ]
  },
  {
   "cell_type": "code",
   "execution_count": 129,
   "id": "ce506c9f",
   "metadata": {
    "scrolled": false
   },
   "outputs": [
    {
     "data": {
      "text/plain": [
       "<__main__.str_df at 0x163e4385bd0>"
      ]
     },
     "metadata": {},
     "output_type": "display_data"
    },
    {
     "data": {
      "text/html": [
       "<div>\n",
       "<style scoped>\n",
       "    .dataframe tbody tr th:only-of-type {\n",
       "        vertical-align: middle;\n",
       "    }\n",
       "\n",
       "    .dataframe tbody tr th {\n",
       "        vertical-align: top;\n",
       "    }\n",
       "\n",
       "    .dataframe thead th {\n",
       "        text-align: right;\n",
       "    }\n",
       "</style>\n",
       "<table border=\"1\" class=\"dataframe\">\n",
       "  <thead>\n",
       "    <tr style=\"text-align: right;\">\n",
       "      <th></th>\n",
       "      <th>0</th>\n",
       "    </tr>\n",
       "  </thead>\n",
       "  <tbody>\n",
       "    <tr>\n",
       "      <th>0</th>\n",
       "      <td>hi the</td>\n",
       "    </tr>\n",
       "    <tr>\n",
       "      <th>1</th>\n",
       "      <td>hi yes</td>\n",
       "    </tr>\n",
       "  </tbody>\n",
       "</table>\n",
       "</div>"
      ],
      "text/plain": [
       "        0\n",
       "0  hi the\n",
       "1  hi yes"
      ]
     },
     "metadata": {},
     "output_type": "display_data"
    },
    {
     "data": {
      "text/html": [
       "<div>\n",
       "<style scoped>\n",
       "    .dataframe tbody tr th:only-of-type {\n",
       "        vertical-align: middle;\n",
       "    }\n",
       "\n",
       "    .dataframe tbody tr th {\n",
       "        vertical-align: top;\n",
       "    }\n",
       "\n",
       "    .dataframe thead th {\n",
       "        text-align: right;\n",
       "    }\n",
       "</style>\n",
       "<table border=\"1\" class=\"dataframe\">\n",
       "  <thead>\n",
       "    <tr style=\"text-align: right;\">\n",
       "      <th></th>\n",
       "      <th>0</th>\n",
       "    </tr>\n",
       "  </thead>\n",
       "  <tbody>\n",
       "    <tr>\n",
       "      <th>0</th>\n",
       "      <td>[h,  there]</td>\n",
       "    </tr>\n",
       "    <tr>\n",
       "      <th>1</th>\n",
       "      <td>[h,  yes]</td>\n",
       "    </tr>\n",
       "  </tbody>\n",
       "</table>\n",
       "</div>"
      ],
      "text/plain": [
       "             0\n",
       "0  [h,  there]\n",
       "1    [h,  yes]"
      ]
     },
     "metadata": {},
     "output_type": "display_data"
    },
    {
     "data": {
      "text/html": [
       "<div>\n",
       "<style scoped>\n",
       "    .dataframe tbody tr th:only-of-type {\n",
       "        vertical-align: middle;\n",
       "    }\n",
       "\n",
       "    .dataframe tbody tr th {\n",
       "        vertical-align: top;\n",
       "    }\n",
       "\n",
       "    .dataframe thead th {\n",
       "        text-align: right;\n",
       "    }\n",
       "</style>\n",
       "<table border=\"1\" class=\"dataframe\">\n",
       "  <thead>\n",
       "    <tr style=\"text-align: right;\">\n",
       "      <th></th>\n",
       "      <th>0</th>\n",
       "    </tr>\n",
       "  </thead>\n",
       "  <tbody>\n",
       "    <tr>\n",
       "      <th>0</th>\n",
       "      <td>there</td>\n",
       "    </tr>\n",
       "    <tr>\n",
       "      <th>1</th>\n",
       "      <td>yes</td>\n",
       "    </tr>\n",
       "  </tbody>\n",
       "</table>\n",
       "</div>"
      ],
      "text/plain": [
       "       0\n",
       "0  there\n",
       "1    yes"
      ]
     },
     "metadata": {},
     "output_type": "display_data"
    },
    {
     "ename": "AttributeError",
     "evalue": "'str_df' object has no attribute 'iloc'",
     "output_type": "error",
     "traceback": [
      "\u001b[1;31m---------------------------------------------------------------------------\u001b[0m",
      "\u001b[1;31mAttributeError\u001b[0m                            Traceback (most recent call last)",
      "Cell \u001b[1;32mIn[129], line 14\u001b[0m\n\u001b[0;32m     11\u001b[0m df\u001b[38;5;241m=\u001b[39mpd\u001b[38;5;241m.\u001b[39mDataFrame([\u001b[38;5;124m\"\u001b[39m\u001b[38;5;124mhi there\u001b[39m\u001b[38;5;124m\"\u001b[39m,\u001b[38;5;124m\"\u001b[39m\u001b[38;5;124mhi yes\u001b[39m\u001b[38;5;124m\"\u001b[39m])\n\u001b[0;32m     13\u001b[0m display(df\u001b[38;5;241m.\u001b[39mstr,df\u001b[38;5;241m.\u001b[39mstr[\u001b[38;5;241m0\u001b[39m:\u001b[38;5;241m6\u001b[39m],df\u001b[38;5;241m.\u001b[39mstr\u001b[38;5;241m.\u001b[39msplit(\u001b[38;5;124m\"\u001b[39m\u001b[38;5;124mi\u001b[39m\u001b[38;5;124m\"\u001b[39m),df\u001b[38;5;241m.\u001b[39mstr\u001b[38;5;241m.\u001b[39msplit()\u001b[38;5;241m.\u001b[39mstr[\u001b[38;5;241m1\u001b[39m])\n\u001b[1;32m---> 14\u001b[0m display(df\u001b[38;5;241m.\u001b[39mstr\u001b[38;5;241m.\u001b[39miloc[\u001b[38;5;241m0\u001b[39m])\n",
      "\u001b[1;31mAttributeError\u001b[0m: 'str_df' object has no attribute 'iloc'"
     ]
    }
   ],
   "source": [
    "@property\n",
    "class str_df:\n",
    "    def __init__(self, df):\n",
    "        self._df = df # save df\n",
    "    # use df in methods\n",
    "    def __getitem__(self,index):\n",
    "        return self._df.map(lambda x:x[index])\n",
    "    def split(self,sep=None):\n",
    "        return self._df.map(lambda x:x.split(sep))\n",
    "pd.DataFrame.str=str_df\n",
    "df=pd.DataFrame([\"hi there\",\"hi yes\"])\n",
    "\n",
    "/display df.str,df.str[0:6],df.str.split(\"i\"),df.str.split().str[1]\n",
    "/display df.str.iloc[0]"
   ]
  },
  {
   "cell_type": "markdown",
   "id": "28868218",
   "metadata": {},
   "source": [
    "(**Note:** the AttributeError is expected here since we don't have an 'iloc' property class (```print(pd.DataFrame.iloc)``` shows a property type) inherited / setup). Also note that we get a memory location rather than a dataframe printed out this time for the df.str because there's no inherent printing functionality upon initialization e.g. you can add ```display(data)``` if wanted or there might be other ways which reflect the \\_\\_call\\_\\_ method (the class being a property means it cannot be callable).\n",
    "\n",
    "It now works independent of pd.DataFrame methods while retaining the data frame when called on by our methods. If wanting to we can continue defining methods or somehow try to be clever with inheriting string methods from the str object directly and dynamically attributing methods to the class.\n",
    "<br><br><br>\n",
    "\n",
    "Check here for the many special methods available for you to try:https://www.pythonmorsels.com/every-dunder-method/#cheat-sheet\n",
    "\n",
    "<br><br><br>\n",
    "Defining custom functions or using special methods can be used as either instance based or static methods and if wanting to you can decide how your objects interact with one another i.e. addition for string objects will be different from float or int objects, this also true if you create your own custom addition method.\n",
    "\n",
    "If you need to check what attributes are currently available to you in a class (more special methods can be added so it may not show all of them) use ```dir(*desired class*)```. To see the available attributes in a jupyter notebook use ```dir()```"
   ]
  },
  {
   "cell_type": "code",
   "execution_count": 14,
   "id": "a98a87d2",
   "metadata": {},
   "outputs": [
    {
     "data": {
      "text/plain": [
       "['A',\n",
       " 'C',\n",
       " 'In',\n",
       " 'Out',\n",
       " '_',\n",
       " '_1',\n",
       " '_4',\n",
       " '_7',\n",
       " '__',\n",
       " '___',\n",
       " '__builtin__',\n",
       " '__builtins__',\n",
       " '__doc__',\n",
       " '__loader__',\n",
       " '__name__',\n",
       " '__package__',\n",
       " '__spec__',\n",
       " '_dh',\n",
       " '_i',\n",
       " '_i1',\n",
       " '_i10',\n",
       " '_i11',\n",
       " '_i12',\n",
       " '_i13',\n",
       " '_i14',\n",
       " '_i2',\n",
       " '_i3',\n",
       " '_i4',\n",
       " '_i5',\n",
       " '_i6',\n",
       " '_i7',\n",
       " '_i8',\n",
       " '_i9',\n",
       " '_ih',\n",
       " '_ii',\n",
       " '_iii',\n",
       " '_oh',\n",
       " 'exit',\n",
       " 'get_ipython',\n",
       " 'open',\n",
       " 'printer',\n",
       " 'quit',\n",
       " 'str_df']"
      ]
     },
     "execution_count": 14,
     "metadata": {},
     "output_type": "execute_result"
    }
   ],
   "source": [
    "dir()"
   ]
  },
  {
   "cell_type": "markdown",
   "id": "f723d139",
   "metadata": {},
   "source": [
    "You should see all your classes and variables defined in the notebook globally are in here, the 'In' attribute is the last cell input in jupyter notebook, 'Out' is the last cell output in jupyter notebook e.g. ```print(In,Out)```. From here you can simply run ```dir(*attribute you want to explore*)``` to further explore the attributes presented in the list or refer to IPython or jupyter notebook documentation (I suspect)."
   ]
  },
  {
   "cell_type": "markdown",
   "id": "ddc4a2d7",
   "metadata": {},
   "source": [
    "# Meta classes\n",
    "It turns out every type (class) in python inherits from type. This can be shown by using either the built in type function or via .\\_\\_class\\_\\_ attribute available to all objects in python.\n",
    "\n",
    "Let's see what class some exemplar python objects inherit from using \\*object*.\\_\\_class\\_\\_"
   ]
  },
  {
   "cell_type": "code",
   "execution_count": 70,
   "id": "b36d3c5f",
   "metadata": {},
   "outputs": [
    {
     "name": "stdout",
     "output_type": "stream",
     "text": [
      "--test if it's working--\n"
     ]
    },
    {
     "data": {
      "text/plain": [
       "str"
      ]
     },
     "metadata": {},
     "output_type": "display_data"
    },
    {
     "data": {
      "text/plain": [
       "int"
      ]
     },
     "metadata": {},
     "output_type": "display_data"
    },
    {
     "data": {
      "text/plain": [
       "float"
      ]
     },
     "metadata": {},
     "output_type": "display_data"
    },
    {
     "name": "stdout",
     "output_type": "stream",
     "text": [
      "--examples--\n"
     ]
    },
    {
     "data": {
      "text/plain": [
       "type"
      ]
     },
     "metadata": {},
     "output_type": "display_data"
    },
    {
     "data": {
      "text/plain": [
       "type"
      ]
     },
     "metadata": {},
     "output_type": "display_data"
    },
    {
     "data": {
      "text/plain": [
       "type"
      ]
     },
     "metadata": {},
     "output_type": "display_data"
    },
    {
     "data": {
      "text/plain": [
       "type"
      ]
     },
     "metadata": {},
     "output_type": "display_data"
    },
    {
     "data": {
      "text/plain": [
       "type"
      ]
     },
     "metadata": {},
     "output_type": "display_data"
    },
    {
     "data": {
      "text/plain": [
       "type"
      ]
     },
     "metadata": {},
     "output_type": "display_data"
    },
    {
     "data": {
      "text/plain": [
       "type"
      ]
     },
     "metadata": {},
     "output_type": "display_data"
    }
   ],
   "source": [
    "# just for example\n",
    "class A:\n",
    "    class B:\n",
    "        pass\n",
    "# see if it's working\n",
    "print(\"--test if it's working--\") # for some reason using /print gives incorrect print?\n",
    "/display type(\"sdf\"),type(3),type(3.0)\n",
    "# example classes\n",
    "/print \"--examples--\"\n",
    "/display type(A),type(A.B),type(int),type(float),type(str),type(dict),type(list)"
   ]
  },
  {
   "cell_type": "markdown",
   "id": "2bc6c407",
   "metadata": {},
   "source": [
    "All these classes inherited from the type class.\n",
    "\n",
    "What's important to note here is that these are when the classes are not instantiated and therefore we can identify what's constructing them (there are additional details you can research to better understand this but the key point is that all objects in python are constructed via the type class).\n",
    "\n",
    "This means if wanting to modify or restructure preexisting classes we can simply define our own custom class that inherits from type and utilize the methods it uses to construct classes. This way we can then override the existing methods it's using to create classes to define class behaviour before it's constructed e.g. we can create meta-classes that existing classes can adhere to (it's not really the same as inheritance) to change their behaviour."
   ]
  },
  {
   "cell_type": "code",
   "execution_count": 6,
   "id": "a7d97bab",
   "metadata": {},
   "outputs": [
    {
     "name": "stdout",
     "output_type": "stream",
     "text": [
      "3\n",
      "hi\n"
     ]
    },
    {
     "data": {
      "text/plain": [
       "2"
      ]
     },
     "execution_count": 6,
     "metadata": {},
     "output_type": "execute_result"
    }
   ],
   "source": [
    "def do():\n",
    "    print(\"hi\")\n",
    "class Test:var=3\n",
    "new_class=type(\"new_class\",(Test,),{\"x\":2,\"do\":do}) # class name, inherited classes, attributes ('self' dict)\n",
    "/print new_class.var\n",
    "new_class.do()\n",
    "new_class.x"
   ]
  },
  {
   "cell_type": "markdown",
   "id": "59c469fa",
   "metadata": {},
   "source": [
    "The use of meta classes is useful when we want to implement class behaviours before object (class) instantiation. Therefore, meta classes in some regards give us the same sorts of uses as decorators which are to manipulate or prep (classes) before the execution of them.\n",
    "\n",
    "To create a meta class we just create a class that, at the very least, needs to inherit from type."
   ]
  },
  {
   "cell_type": "code",
   "execution_count": 9,
   "id": "1f4cfed6",
   "metadata": {},
   "outputs": [
    {
     "name": "stdout",
     "output_type": "stream",
     "text": [
      "10 100\n"
     ]
    }
   ],
   "source": [
    "class Meta(type):\n",
    "    def __new__(self,class_name,bases,attrs):\n",
    "        attrs[\"y\"] = 100\n",
    "        return type(class_name,bases,attrs) # instantiate / construct the class\n",
    "class Test(metaclass=Meta):x=10\n",
    "/print Test().x,Test().y"
   ]
  },
  {
   "cell_type": "markdown",
   "id": "3160ea09",
   "metadata": {},
   "source": [
    "# Why would we ever need a meta class?\n",
    "Basically whenever you need to have any attribute or class associated with the class of interest that needs global rules or exception handling whenever the class is attempted to be created a meta class is a good practice for doing so.\n",
    "\n",
    "For example if you want to make a rule about what attributes are allowed and not allowed to be used from a class then meta classes can help you.\n",
    "\n",
    "So a typical example of what you can do with metaclasses has an idea of this in mind:\n",
    "```\n",
    "class TestMeta(type):\n",
    "    def __new__(self,class_name,bases,attrs):\n",
    "        for key,value in attrs.items():\n",
    "            # run through a bunch of checks and modifiers\n",
    "        return type(class_name,bases,attrs) # instantiate / construct the class\n",
    "        #return super().__new__(self,class_name,bases,attrs) # is also possible\n",
    "class Test(metaclass=TestMeta):pass\n",
    "```\n",
    "The key point being that we can modify or analyze the attrs dict ('self' dict in classes). If we wanted to we can also loop through the bases (all classes that your class inherits from) and modify or analyze these.\n",
    "\n",
    "\n",
    "# Note:\n",
    "The only reason why we need meta classes is because of the (at least; there may be more) '\\_\\_new\\_\\_' and the '\\_\\_prepare\\_\\_' dunder / magic method else we could just write out a i.e. \\_\\_new\\_\\_ method in our class and not need bother with everything else to do with meta classes. \n",
    "\n",
    "The \\_\\_new\\_\\_ method requires 4 inputs and if implemented or inherited as per usual like regular class will not work as it would be expecting those 4 args that will be cumbersome to use even when the meta class is used by itself, so you specifically assign the meta class to your class via \n",
    "\n",
    "```class *your class name*(metaclass=*your meta class name*):``` \n",
    "\n",
    "otherwise a meta class would be unnecessary or cumbersome.\n",
    "\n",
    "So, really, you'll mostly never need a meta class beyond implementing additionally useful custom rules and exception handling in your classes. Any other concepts should be tried via a different route first else it will likely increase the execution time or complexity of your program unnecessarily.\n",
    "\n",
    "Also, some of what you can do with meta classes you may want to consider using a class decorator as both may have similar desired effects.\n",
    "\n",
    "# Class rules"
   ]
  },
  {
   "cell_type": "code",
   "execution_count": 95,
   "id": "5389ca45",
   "metadata": {},
   "outputs": [
    {
     "name": "stdout",
     "output_type": "stream",
     "text": [
      "class 'Test' must have the method 'method'\n",
      "class 'Test' must have a docstring\n",
      "fix the 2 errors to continue\n"
     ]
    }
   ],
   "source": [
    "class TestMeta(type):\n",
    "    def __new__(self,class_name,bases,attrs):\n",
    "        errors,exists,has_doc=(0,)*3\n",
    "        for key,value in attrs.items():\n",
    "            # run through a bunch of checks and modifiers\n",
    "            if key == \"__doc__\":\n",
    "                has_doc = 1\n",
    "            if key == \"method\":\n",
    "                exists=1\n",
    "            if key[0] == \"_\" and key[1] != \"_\":\n",
    "                print(f\"'{key}' cannot have variables or methods that start with a single leading underscore\")\n",
    "                errors+=1\n",
    "            # make sure all classes and functions have docstrings, type annotation, \n",
    "            if hasattr(value,\"__call__\") == True:\n",
    "                # type annotation check\n",
    "                if value.__annotations__ == {}:\n",
    "                    print(f\"'{key}' must have type annotations for input and return values\")\n",
    "                    errors+=1\n",
    "                else:\n",
    "                    if \"return\" not in value.__annotations__:\n",
    "                        print(f\"'{key}' must have type annotations for the return values\")\n",
    "                        errors+=1\n",
    "                    # you could try implementing this, it also requires how to deal with args and kwargs so...\n",
    "#                    if len(value.__annotations__): # only if there are other variables\n",
    "#                        print(f\"'{key}' must have type annotations for the input values\")\n",
    "#                        errors+=1\n",
    "                # docstring check\n",
    "                if value.__doc__ == None:\n",
    "                    print(f\"'{key}' must have a docstring\")\n",
    "                    errors+=1\n",
    "        if exists == 0:\n",
    "            print(f\"class '{class_name}' must have the method 'method'\")\n",
    "            errors+=1\n",
    "        if has_doc == 0:\n",
    "            print(f\"class '{class_name}' must have a docstring\")\n",
    "            errors+=1\n",
    "        if errors > 0:\n",
    "            print(f\"fix the {errors} errors to continue\")\n",
    "            return\n",
    "        return type(class_name,bases,attrs) # instantiate / construct the class\n",
    "class Test(metaclass=TestMeta):\n",
    "    #\"\"\"asdf\"\"\"\n",
    "    x=3\n",
    "#    @staticmethod\n",
    "#    def method()->None:\n",
    "#        #\"\"\"asdf\"\"\"\n",
    "#        print(\"here!\")"
   ]
  },
  {
   "cell_type": "markdown",
   "id": "3777cefd",
   "metadata": {},
   "source": [
    "A meta class can also be defined from a function. Be aware that you can't inherit from functions and there may be more than one dunder method that can be used for the type class which makes this advantageous for some tasks but is not as flexible.\n",
    "\n",
    "# Design patterns\n",
    "## Singleton\n",
    "A singleton is a class behaviour allowing only one instance of a class in a program e.g. one memory allocation for a class type only."
   ]
  },
  {
   "cell_type": "code",
   "execution_count": 4,
   "id": "ce1f6716",
   "metadata": {},
   "outputs": [],
   "source": [
    "# code reference: https://stackoverflow.com/questions/6760685/what-is-the-best-way-of-implementing-singleton-in-python?page=2&tab=scoredesc\n",
    "class Meta(type):\n",
    "    \"\"\"Singleton design (only one instance can be created)\"\"\"\n",
    "    # create private variable to record the instances created\n",
    "    __instance={}\n",
    "    def __call__(cls,*args,**kwargs):\n",
    "        if cls not in cls.__instance:\n",
    "            cls.__instance[cls] = super(Meta,cls).__call__(*args,**kwargs)\n",
    "            return cls\n",
    "class singleton(metaclass=Meta):pass"
   ]
  },
  {
   "cell_type": "code",
   "execution_count": 5,
   "id": "d471801a",
   "metadata": {},
   "outputs": [
    {
     "name": "stdout",
     "output_type": "stream",
     "text": [
      "<class '__main__.singleton'> None\n"
     ]
    }
   ],
   "source": [
    "obj=singleton()\n",
    "obj2=singleton()\n",
    "print(obj,obj2)"
   ]
  },
  {
   "cell_type": "markdown",
   "id": "d66bc848",
   "metadata": {},
   "source": [
    "## Factory\n",
    "Basically creates a class instance from a function; you may also define this as a method in a class e.g. a class methdo that instantiates another class."
   ]
  },
  {
   "cell_type": "code",
   "execution_count": 97,
   "id": "f6d838ae",
   "metadata": {},
   "outputs": [
    {
     "data": {
      "text/plain": [
       "<__main__.A at 0x1b501c5cd90>"
      ]
     },
     "execution_count": 97,
     "metadata": {},
     "output_type": "execute_result"
    }
   ],
   "source": [
    "class A:pass\n",
    "class B:pass\n",
    "#... etc.\n",
    "def Factory(obj=\"\"):\n",
    "    return {\"A\":A,\"B\":B}[obj]\n",
    "# alternatively you can do this in the dict if not wanting to call it e.g. \"A\":A() rather than \"A\":A\n",
    "/print Factory(\"A\")()\n",
    "## or ##\n",
    "class Factory_class:\n",
    "    @staticmethod\n",
    "    def Factory(obj=\"\"):\n",
    "        return {\"A\":A,\"B\":B}[obj]\n",
    "Factory_class.Factory(\"A\")()"
   ]
  },
  {
   "cell_type": "markdown",
   "id": "056ea873",
   "metadata": {},
   "source": [
    "## Facade\n",
    "Basically encapsulates other classes states in one class acting as a control panel or hub for a multiple classes. Useful for more complex class interactions."
   ]
  },
  {
   "cell_type": "code",
   "execution_count": 33,
   "id": "62881026",
   "metadata": {},
   "outputs": [],
   "source": [
    "class methods:\n",
    "    @staticmethod\n",
    "    def method1():\n",
    "        print(\"method 1\")\n",
    "    @staticmethod\n",
    "    def method2():\n",
    "        print(\"method 2\")\n",
    "# you can define custom methods but this is just for example\n",
    "class A(methods):pass\n",
    "class B(methods):pass\n",
    "class C(methods):pass\n",
    "class Facade:\n",
    "    def __init__(self):\n",
    "        self._A = A()\n",
    "        self._B = B()\n",
    "        self._C = C()\n",
    "    def Event1(self):\n",
    "        self._A.method1()\n",
    "        self._B.method1()\n",
    "        self._C.method2()\n",
    "    def Event2(self):\n",
    "        self._A.method2()\n",
    "        self._B.method2()\n",
    "        self._C.method1()\n",
    "F=Facade()\n",
    "#F._A\n",
    "F.Event1()\n",
    "print(\"-\"*10)\n",
    "F.Event2()"
   ]
  },
  {
   "cell_type": "markdown",
   "id": "415b3c67",
   "metadata": {},
   "source": [
    "For more information and other design patterns you may want to try see: https://refactoring.guru/design-patterns/catalog"
   ]
  }
 ],
 "metadata": {
  "kernelspec": {
   "display_name": "Python 3 (ipykernel)",
   "language": "python",
   "name": "python3"
  },
  "language_info": {
   "codemirror_mode": {
    "name": "ipython",
    "version": 3
   },
   "file_extension": ".py",
   "mimetype": "text/x-python",
   "name": "python",
   "nbconvert_exporter": "python",
   "pygments_lexer": "ipython3",
   "version": "3.11.5"
  }
 },
 "nbformat": 4,
 "nbformat_minor": 5
}
